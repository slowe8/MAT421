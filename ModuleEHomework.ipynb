{
  "nbformat": 4,
  "nbformat_minor": 0,
  "metadata": {
    "colab": {
      "provenance": [],
      "authorship_tag": "ABX9TyNnUhBzc7IDRLLRqTFoMJYg",
      "include_colab_link": true
    },
    "kernelspec": {
      "name": "python3",
      "display_name": "Python 3"
    },
    "language_info": {
      "name": "python"
    }
  },
  "cells": [
    {
      "cell_type": "markdown",
      "metadata": {
        "id": "view-in-github",
        "colab_type": "text"
      },
      "source": [
        "<a href=\"https://colab.research.google.com/github/slowe8/MAT421/blob/main/ModuleEHomework.ipynb\" target=\"_parent\"><img src=\"https://colab.research.google.com/assets/colab-badge.svg\" alt=\"Open In Colab\"/></a>"
      ]
    },
    {
      "cell_type": "markdown",
      "source": [
        "#Module E Homework 3.2, 3.3\n",
        "\n",
        "Name: Sean Lowe\n",
        "\n",
        "ASURITE: slowe8\n",
        "\n",
        "ASUID: 1221120472\n",
        "\n",
        "\n",
        "**Continuity and Differentiation**\n",
        "\n",
        "Within mathematics, the idea of a function takes many forms. However, when we work with calculus, we typically want our functions to be \"smooth and continuous\" because then they are differentiable. This comes from the idea of a limit, which defines the derivative. In general, if a the limit of a function at a point can be taken at each side of the axis and it agrees, then it is a valid limit and the function is differentiable at that point. Some functions can be not smooth or continuous and still be differentiable, but their derivatives will not be differentiable. For example, the absolute value funciton is technically continuous but not smooth, so its derivative is a piecewise function.\n",
        "\n",
        "Expressing this idea in more dimensions is fairly simple. We use a partial derivative to express a derivative of a function with respect to just one variable of the function. As continue to express the higher-order derivatives, we create a derivative tree of sorts.\n",
        "\n",
        "We can even further expand the idea of derivatives into systems, which can be described as matrices. The derivative of a system is called the Jacobian and the second derivative is called the Hessian. All of these ideas can be expressed in python:"
      ],
      "metadata": {
        "id": "NPboUg5m_eP-"
      }
    },
    {
      "cell_type": "code",
      "execution_count": 7,
      "metadata": {
        "id": "plJHaxZa_XvN",
        "colab": {
          "base_uri": "https://localhost:8080/"
        },
        "outputId": "d726a0a9-4c3c-4888-e3ff-10c99e3aef76"
      },
      "outputs": [
        {
          "output_type": "stream",
          "name": "stdout",
          "text": [
            "Derivatve : 5*x**4 - 4*x\n",
            "Second derivative: 20*x**3 - 4\n"
          ]
        }
      ],
      "source": [
        "import numpy as np\n",
        "import sympy as sp\n",
        "\n",
        "# First and second derivatives\n",
        "x = Symbol('x')\n",
        "y = x**5 - 2*x**2 +5\n",
        "yprime = y.diff(x)\n",
        "print(\"Derivatve : {}\".format(yprime))\n",
        "ydouble_prime = yprime.diff(x)\n",
        "print(\"Second derivative: {}\".format(ydouble_prime))\n",
        "\n",
        "# Partial derivatives\n",
        "y = Symbol('y')\n",
        "z = Symbol('z')\n",
        "f = x**3 + y**3 + z**3 + y*x**2 + z*y**2 + x*z**2 + x*y*z\n",
        "\n",
        "# First partial derivatives\n",
        "dx = f.diff(x)\n",
        "dy = f.diff(y)\n",
        "dz = f.diff(z)\n",
        "\n",
        "# Second partial derivatives"
      ]
    }
  ]
}