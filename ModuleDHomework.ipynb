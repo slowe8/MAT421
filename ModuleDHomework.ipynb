{
  "nbformat": 4,
  "nbformat_minor": 0,
  "metadata": {
    "colab": {
      "provenance": [],
      "authorship_tag": "ABX9TyMzObwyzd3dMWVQucIXInlB",
      "include_colab_link": true
    },
    "kernelspec": {
      "name": "python3",
      "display_name": "Python 3"
    },
    "language_info": {
      "name": "python"
    }
  },
  "cells": [
    {
      "cell_type": "markdown",
      "metadata": {
        "id": "view-in-github",
        "colab_type": "text"
      },
      "source": [
        "<a href=\"https://colab.research.google.com/github/slowe8/MAT421/blob/main/ModuleDHomework.ipynb\" target=\"_parent\"><img src=\"https://colab.research.google.com/assets/colab-badge.svg\" alt=\"Open In Colab\"/></a>"
      ]
    },
    {
      "cell_type": "markdown",
      "source": [
        "# MAT 421 Module D Homework 1.1-1.4\n",
        "Name: Sean Lowe<br>\n",
        "ASURITE: slowe8<br>\n",
        "ASU ID: 1221120472<br>"
      ],
      "metadata": {
        "id": "SzBWbEShlGYk"
      }
    },
    {
      "cell_type": "code",
      "execution_count": null,
      "metadata": {
        "id": "_1eeUET_k4W3"
      },
      "outputs": [],
      "source": []
    }
  ]
}