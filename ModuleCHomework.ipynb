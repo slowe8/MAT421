{
  "nbformat": 4,
  "nbformat_minor": 0,
  "metadata": {
    "colab": {
      "provenance": [],
      "authorship_tag": "ABX9TyNw9nSIPV6nUPwPJ4xabBsQ",
      "include_colab_link": true
    },
    "kernelspec": {
      "name": "python3",
      "display_name": "Python 3"
    },
    "language_info": {
      "name": "python"
    }
  },
  "cells": [
    {
      "cell_type": "markdown",
      "metadata": {
        "id": "view-in-github",
        "colab_type": "text"
      },
      "source": [
        "<a href=\"https://colab.research.google.com/github/slowe8/MAT421/blob/main/ModuleCHomework.ipynb\" target=\"_parent\"><img src=\"https://colab.research.google.com/assets/colab-badge.svg\" alt=\"Open In Colab\"/></a>"
      ]
    },
    {
      "cell_type": "markdown",
      "source": [
        "# MAT 421 Module C Homework 19.1 - 19.5\n",
        "Name: Sean Lowe<br>\n",
        "ASURITE: slowe8<br>\n",
        "ASU ID: 1221120472<br>\n",
        "\n",
        "**19.1 Root Finding Problem Statement**\n",
        "Being able to determine the roots, or zeros or solutions, of a function is a very valuable skill. In school, we find roots to basic functions using various mathematical methods, however, for complex functions, this process can be very difficult. Instead of finding these roots by hand, we turn to computers to approximate the roots of arbitrary funcitons for us. Using the same numerical methods we could use by hand, we can write a program that approximates the roots of a program by crawling along the function to determine where the root is. In python, the basic function fsolve from the scipy library is used to find the roots of a function."
      ],
      "metadata": {
        "id": "24R2Hwikjs0-"
      }
    },
    {
      "cell_type": "code",
      "execution_count": 37,
      "metadata": {
        "colab": {
          "base_uri": "https://localhost:8080/"
        },
        "id": "n8dRWc44jomQ",
        "outputId": "b8449ff5-9d3c-4b5e-d231-7af619a87e32"
      },
      "outputs": [
        {
          "output_type": "stream",
          "name": "stdout",
          "text": [
            "Roots of f(x) = x^2 - 2:  [-2.  2.]\n"
          ]
        }
      ],
      "source": [
        "import numpy as np\n",
        "from scipy import optimize\n",
        "\n",
        "f = lambda x: x**2 - 4\n",
        "r = optimize.fsolve(f, [-5, 5])\n",
        "print(\"Roots of f(x) = x^2 - 2: \", r)"
      ]
    },
    {
      "cell_type": "markdown",
      "source": [
        "We know that these roots are correct from a simple factoring method.\n",
        "\n",
        "**19.2 Tolerance**\n",
        "When using numeric, or iterative, solutions, we need to expect a certain level of error in our answers because the calculation will never fully converge onto the full answer. However, if we are iterating through the process and we get multiple answers that are all within a small error, then we should expect that the last calculation we get is acceptable as the solution. This small window of error is called a tolerance. <br> There is a caviot to using tolerance in a method like this. For example, the function f(x) = x^2 + tol has no real roots, however x = tol/2 is an acceptable solution to the method becuase it is within the tolerance of the algorithm. Situations like this should be avoided because it produces wrong solutions.\n",
        "<br>\n",
        "**19.3 Bisection Method**\n",
        "The Bisection Method is based on the Intermediate Value Theorem from calculus. A basic explaination of it is that if there are two points on a smooth, continuous function, then there is guaranteed to be a point between them. By starting with a point above and below zero, the bisection method estimates roots by moving closer to 0 over each iteration."
      ],
      "metadata": {
        "id": "4uXtYu8BUaxK"
      }
    },
    {
      "cell_type": "code",
      "source": [
        "import numpy as np\n",
        "\n",
        "def bisection_root(function, bounds, tol):\n",
        "  '''\n",
        "    This function takes a function, an array of root boundaries, and a\n",
        "    tolerance, and return a root for each pair of boundaries in a list\n",
        "  '''\n",
        "  roots_found = []\n",
        "\n",
        "  for bound in bounds:\n",
        "    if len(bound) != 2:\n",
        "      raise Exception(\"Each set of boundaries need to have only two points.\")\n",
        "\n",
        "    a = bound[0]\n",
        "    b = bound[1]\n",
        "\n",
        "    #if np.sign(a) == np.sign(b):\n",
        "    #  raise Exception(\"Points a and b do not bound a root.\")\n",
        "\n",
        "    midpoint = (a + b) / 2\n",
        "\n",
        "    if abs(function(midpoint)) < tol:\n",
        "      return [midpoint]\n",
        "    elif np.sign(f(a)) == np.sign(f(midpoint)):\n",
        "        roots_found.append(bisection_root(f, [[midpoint, b]],tol)[0])\n",
        "    elif np.sign(f(b)) == np.sign(f(midpoint)):\n",
        "        roots_found.append(bisection_root(f, [[a, midpoint]], tol)[0])\n",
        "\n",
        "  return roots_found\n",
        "\n",
        "f = lambda x: x**2 - 4\n",
        "print(\"Roots of f(x) = x^2 - 4 with a tolerance of 0.01: \", bisection_root(f, [[-5, 0], [0, 5]], 0.01))\n",
        "print(\"Roots of f(x) = x^2 - 4 with a tolerance of 0.0001: \", bisection_root(f, [[-5, 0], [0, 5]], 0.0001))\n"
      ],
      "metadata": {
        "colab": {
          "base_uri": "https://localhost:8080/"
        },
        "id": "9wpuR8cYZDu_",
        "outputId": "f79a0aad-7dc3-4342-e4d1-6e9f93a9e047"
      },
      "execution_count": 38,
      "outputs": [
        {
          "output_type": "stream",
          "name": "stdout",
          "text": [
            "Roots of f(x) = x^2 - 4 with a tolerance of 0.01:  [-2.001953125, 2.001953125]\n",
            "Roots of f(x) = x^2 - 4 with a tolerance of 0.0001:  [-2.0000076293945312, 2.0000076293945312]\n"
          ]
        }
      ]
    },
    {
      "cell_type": "markdown",
      "source": [
        "We can see that the bisection method isn't perfect because it can encounter collisions. In other words, the root boundaries must be close to the root."
      ],
      "metadata": {
        "id": "3FkTF3q71udj"
      }
    },
    {
      "cell_type": "code",
      "source": [
        "try:\n",
        "  print(\"Roots of f(x) = x^2 - 4 with a tolerance of 0.01: \", bisection_root(f, [[-100, 100], [-50, 502]], 0.01))\n",
        "except RecursionError as e:\n",
        "  print(\"RecursionError: maximum recursion depth exceeded while calling a Python object\")\n",
        "  print(\"Given root boundaries are not properly surround a root.\")"
      ],
      "metadata": {
        "colab": {
          "base_uri": "https://localhost:8080/"
        },
        "id": "bE-ajMub2Csa",
        "outputId": "37f37c10-942e-4360-bf2d-a25dd5352c77"
      },
      "execution_count": 39,
      "outputs": [
        {
          "output_type": "stream",
          "name": "stdout",
          "text": [
            "RecursionError: maximum recursion depth exceeded while calling a Python object\n",
            "Given root boundaries are not properly surround a root.\n"
          ]
        }
      ]
    },
    {
      "cell_type": "markdown",
      "source": [
        "Because the boundaries are poorly defined it creates an infinite loop and the method will not be able to find the roots.\n",
        "\n",
        "**19.4 Newton-Raphson Method**\n",
        "\n",
        "The Newton-Raphson Method uses the derivative of a function to converge to the answer in a similar manner. Instead of taking the midpoint between two points, it finds the difference between the next guess and previous guess using the tangent line."
      ],
      "metadata": {
        "id": "0j_UuxVO2QhM"
      }
    },
    {
      "cell_type": "code",
      "source": [
        "def newton_raphson(f, df, x, tol):\n",
        "\n",
        "  roots_found = []\n",
        "\n",
        "  if 0 in x:\n",
        "    print(\"Divide by 0! You can't start at 0 for this method\")\n",
        "    return []\n",
        "\n",
        "  for x0 in x:\n",
        "    if abs(f(x0)) < tol:\n",
        "      return [x0];\n",
        "    roots_found.append(newton_raphson(f, df, [x0 - f(x0)/df(x0)], tol)[0])\n",
        "\n",
        "  return roots_found\n",
        "\n",
        "f = lambda x: x**3 + 2*x**2 - 0.5\n",
        "df = lambda x: 3*x**2 + 4*x\n",
        "\n",
        "roots_nr = newton_raphson(f, df, [-5, -1, 5], 1e-15)\n",
        "print(\"Roots of f(x) = x^3 + 2x^2 - 0.5 with very low tolerance (high accuracy): \", roots_nr)"
      ],
      "metadata": {
        "colab": {
          "base_uri": "https://localhost:8080/"
        },
        "id": "On79RkUb5QtE",
        "outputId": "08afb11e-5b01-40ce-fc6f-de3bb9dba486"
      },
      "execution_count": 48,
      "outputs": [
        {
          "output_type": "stream",
          "name": "stdout",
          "text": [
            "Roots of f(x) = x^3 + 2x^2 - 0.5 with very low tolerance (high accuracy):  [-1.8546376797184618, -0.5969682832373152, 0.4516059629557767]\n"
          ]
        }
      ]
    },
    {
      "cell_type": "markdown",
      "source": [
        "Because this method does not use two points for each root, there are no collisions, so as long as you have at least one point close to each root, the Newton-Raphson Method will produce all of the real roots of a function.\n",
        "\n",
        "**19.5 Root Finding in Python**\n",
        "\n",
        "*fsolve()* from Python's *optimize* library is very similar to the function we wrote for the Newton-Raphson method, however it only takes the function and initial guesses. This method is extremely useful because it can solve for the roots of complex functions that would otherwise be difficult to solve."
      ],
      "metadata": {
        "id": "lDmiI2G27qjq"
      }
    },
    {
      "cell_type": "code",
      "source": [
        "roots_op = optimize.fsolve(f, [-5, -1, 5])\n",
        "print(\"Roots of f(x) = x^3 + 2x^2 - 0.5: \", roots_op)"
      ],
      "metadata": {
        "colab": {
          "base_uri": "https://localhost:8080/"
        },
        "id": "secKKJEz9scr",
        "outputId": "47dea6b8-f3b7-461a-de75-6355104d4b8d"
      },
      "execution_count": 51,
      "outputs": [
        {
          "output_type": "stream",
          "name": "stdout",
          "text": [
            "Roots of f(x) = x^3 + 2x^2 - 0.5:  [-1.85463768 -0.59696828  0.45160596]\n"
          ]
        }
      ]
    },
    {
      "cell_type": "markdown",
      "source": [
        "Notice that the roots produced from the SciPy library function is accurate but not to the same precision that can be achieved with the Newton-Raphson method above. In other words, if you are writing an application that requires higher precision, you may want to implement a custom root finding algorithm like the one written above.\n"
      ],
      "metadata": {
        "id": "xKpy-qfEEGNm"
      }
    }
  ]
}