{
  "nbformat": 4,
  "nbformat_minor": 0,
  "metadata": {
    "colab": {
      "provenance": [],
      "authorship_tag": "ABX9TyPZAnuwCLztALXUyqYo0f8/",
      "include_colab_link": true
    },
    "kernelspec": {
      "name": "python3",
      "display_name": "Python 3"
    },
    "language_info": {
      "name": "python"
    }
  },
  "cells": [
    {
      "cell_type": "markdown",
      "metadata": {
        "id": "view-in-github",
        "colab_type": "text"
      },
      "source": [
        "<a href=\"https://colab.research.google.com/github/slowe8/MAT421/blob/main/ModuleAHomework.ipynb\" target=\"_parent\"><img src=\"https://colab.research.google.com/assets/colab-badge.svg\" alt=\"Open In Colab\"/></a>"
      ]
    },
    {
      "cell_type": "markdown",
      "source": [
        "# MAT 421 Module A Homework\n",
        "Name: Sean Lowe<br>\n",
        "ASURITE: slowe8<br>\n",
        "ASU ID: 1221120472<br>\n",
        "\n",
        "**Base N and Binary**\n",
        "\n"
      ],
      "metadata": {
        "id": "ddeMaMRQV5yJ"
      }
    },
    {
      "cell_type": "code",
      "source": [
        "# Representation of numbers in binary in Python using int(), bin(), and hex();\n",
        "\n",
        "num = 15\n",
        "base10 = int(num)\n",
        "base2 = bin(base10)\n",
        "base16 = hex(base10)\n",
        "\n",
        "print(\"You inputted the number \", num, \" which is in a base10 representation.\")\n",
        "print(num, \" in base2 (binary): \", base2)\n",
        "print(num, \" in base16 (hexadecimal): \", base16)\n"
      ],
      "metadata": {
        "colab": {
          "base_uri": "https://localhost:8080/"
        },
        "id": "j4WJcJOlONbR",
        "outputId": "33542f3e-36cd-4a93-943c-0be4865a7d76"
      },
      "execution_count": null,
      "outputs": [
        {
          "output_type": "stream",
          "name": "stdout",
          "text": [
            "You inputted the number  15  which is in a base10 representation.\n",
            "15  in base2 (binary):  0b1111\n",
            "15  in base16 (hexadecimal):  0xf\n"
          ]
        }
      ]
    },
    {
      "cell_type": "code",
      "source": [
        "# We can perform operations on binary numbers\n",
        "\n",
        "num1 = 0b011001\n",
        "num2 = 0b111000\n",
        "num3 = 0b0010\n",
        "\n",
        "sum = num1 + num2\n",
        "diff = num1 - num3\n",
        "prod = num1 * num2\n",
        "div = num2 // num3\n",
        "\n",
        "print(f'The sum in base10: {sum=}')\n",
        "print(f'The sum in base2: {bin(sum)=}\\n')\n",
        "print(f'The difference in base10: {diff=}')\n",
        "print(f'The difference in base2: {bin(diff)=}\\n')\n",
        "print(f'The product in base10: {prod=}')\n",
        "print(f'The product in base2: {bin(prod)=}\\n')\n",
        "print(f'The quotient in base10: {div=}')\n",
        "print(f'The quotient in base2: {bin(div)=}\\n')\n",
        "\n"
      ],
      "metadata": {
        "colab": {
          "base_uri": "https://localhost:8080/"
        },
        "id": "1IH990uDiLWO",
        "outputId": "58dcc9c6-22de-4ca9-b128-eee61d5bdd2d"
      },
      "execution_count": 4,
      "outputs": [
        {
          "output_type": "stream",
          "name": "stdout",
          "text": [
            "The sum in base10: sum=81\n",
            "The sum in base2: bin(sum)='0b1010001'\n",
            "\n",
            "The difference in base10: diff=23\n",
            "The difference in base2: bin(diff)='0b10111'\n",
            "\n",
            "The product in base10: prod=1400\n",
            "The product in base2: bin(prod)='0b10101111000'\n",
            "\n",
            "The quotient in base10: div=28\n",
            "The quotient in base2: bin(div)='0b11100'\n",
            "\n"
          ]
        }
      ]
    },
    {
      "cell_type": "markdown",
      "source": [
        "**Floating Point Numbers**"
      ],
      "metadata": {
        "id": "ifD81BFrway5"
      }
    },
    {
      "cell_type": "code",
      "source": [
        "# When using floating point numbers in computing, the numbers are represented in a 64-bit format called IEEE754 which describes how the floating point number is\n",
        "# represented in memory. Using the sys library, we can view the information about how Python represents floating point numbers\n",
        "\n",
        "sys.float_info"
      ],
      "metadata": {
        "colab": {
          "base_uri": "https://localhost:8080/"
        },
        "id": "rcGZQ91Ny1KZ",
        "outputId": "553ac8c3-9692-4baf-8672-86fd4f5ef5a1"
      },
      "execution_count": 9,
      "outputs": [
        {
          "output_type": "execute_result",
          "data": {
            "text/plain": [
              "sys.float_info(max=1.7976931348623157e+308, max_exp=1024, max_10_exp=308, min=2.2250738585072014e-308, min_exp=-1021, min_10_exp=-307, dig=15, mant_dig=53, epsilon=2.220446049250313e-16, radix=2, rounds=1)"
            ]
          },
          "metadata": {},
          "execution_count": 9
        }
      ]
    },
    {
      "cell_type": "code",
      "source": [
        "# Using the information form the representation, we can investigate when floating numbers will over or underflow\n",
        "\n",
        "print('Limit before overflow: ', sys.float_info.max)\n",
        "print('Going over this limit will produce an overflow/represent infinity: ', sys.float_info.max*2)\n",
        "print('Notice how going over this limit, but under the precision of the number, is the same as the max floating point number: ', sys.float_info.max + 100 == sys.float_info.max)\n",
        "print('The same is true for underflow - Limit: ', 2**-1074)\n",
        "print('Underflow: ', 2**-1075)\n",
        "print('Underflow limit without exceeding precision: ', 2**-1074 - (2**-1074)/2 == 2**-1074)"
      ],
      "metadata": {
        "colab": {
          "base_uri": "https://localhost:8080/"
        },
        "id": "_MxcUL0GzSjL",
        "outputId": "20f1cb0a-8a07-45a2-9797-45ae99a9801a"
      },
      "execution_count": 24,
      "outputs": [
        {
          "output_type": "stream",
          "name": "stdout",
          "text": [
            "Limit before overflow:  1.7976931348623157e+308\n",
            "Going over this limit will produce an overflow/represent infinity:  inf\n",
            "Notice how going over this limit, but under the precision of the number, is the same as the max floating point number:  True\n",
            "The same is true for underflow - Limit:  5e-324\n",
            "Underflow:  0.0\n",
            "Underflow limit without exceeding precision:  True\n"
          ]
        }
      ]
    },
    {
      "cell_type": "code",
      "source": [
        "# Becuause of the representation, there is an implicit gap between each floating point number, similar to how there is a gap of 1 between each\n",
        "# integer number\n",
        "\n",
        "# To see this gap, we can use the numpy library\n",
        "\n",
        "import numpy as np\n",
        "import sys\n",
        "\n",
        "np.spacing(1e9)"
      ],
      "metadata": {
        "colab": {
          "base_uri": "https://localhost:8080/"
        },
        "id": "bHHfuHu4wgPc",
        "outputId": "f0c3277c-552b-4d96-ab66-519a3efb8080"
      },
      "execution_count": 5,
      "outputs": [
        {
          "output_type": "execute_result",
          "data": {
            "text/plain": [
              "1.1920928955078125e-07"
            ]
          },
          "metadata": {},
          "execution_count": 5
        }
      ]
    },
    {
      "cell_type": "code",
      "source": [
        "# Because this is technically the smallest gap between this floating point number and the next, adding anything less than the spacing to the number will result in the same number\n",
        "\n",
        "current_float = 1e9\n",
        "next_float = 1e9 + np.spacing(current_float)\n",
        "print(current_float + np.spacing(current_float)/2 == current_float) # In this case, you can see that adding less than the spacing results in the same number\n",
        "print(current_float + np.spacing(current_float)*1.2 == next_float) # In this case, you can see that adding more than the current spacing, but less than the next spacing gives the next float"
      ],
      "metadata": {
        "colab": {
          "base_uri": "https://localhost:8080/"
        },
        "id": "TAkUOsnlxhDK",
        "outputId": "6f3cd8ee-50e5-40ea-fffa-dc699d8dd911"
      },
      "execution_count": 8,
      "outputs": [
        {
          "output_type": "stream",
          "name": "stdout",
          "text": [
            "True\n",
            "True\n"
          ]
        }
      ]
    },
    {
      "cell_type": "markdown",
      "source": [
        "**Round-off Errors**"
      ],
      "metadata": {
        "id": "dvwofbzl2mS3"
      }
    },
    {
      "cell_type": "code",
      "source": [
        "# One consequence of the representation of floating point numbers and spacing is small errors in arithmetic.\n",
        "\n",
        "print(f'{0.2 + 0.4 == 0.6 = }')\n",
        "print(f'{0.2 + 0.4 = }')\n",
        "percent_error = abs(0.6 - (0.2 + 0.4))/0.6 * 100\n",
        "print(f'% error: ', percent_error, \"%\")"
      ],
      "metadata": {
        "colab": {
          "base_uri": "https://localhost:8080/"
        },
        "id": "m_rm7HsE21ek",
        "outputId": "32f41251-4ac4-4f75-bed2-c754dec64636"
      },
      "execution_count": 30,
      "outputs": [
        {
          "output_type": "stream",
          "name": "stdout",
          "text": [
            "0.2 + 0.4 == 0.6 = False\n",
            "0.2 + 0.4 = 0.6000000000000001\n",
            "% error:  1.8503717077085944e-14 %\n"
          ]
        }
      ]
    },
    {
      "cell_type": "code",
      "source": [
        "# This can be solved using the rounding funtion\n",
        "\n",
        "print(f'{round(0.2 + 0.4) == round(0.6) = }')"
      ],
      "metadata": {
        "colab": {
          "base_uri": "https://localhost:8080/"
        },
        "id": "KlB00kGg4nLZ",
        "outputId": "b44ad531-58df-4586-c21e-7ea4c78422b9"
      },
      "execution_count": 32,
      "outputs": [
        {
          "output_type": "stream",
          "name": "stdout",
          "text": [
            "round(0.2 + 0.4) == round(0.6) = True\n"
          ]
        }
      ]
    },
    {
      "cell_type": "code",
      "source": [
        "# This error can accumulate when not handled correctly, so it can go from a small error to a large error quickly\n",
        "\n",
        "def accumulateError(iterations):\n",
        "  result = 1\n",
        "\n",
        "  for i in range(iterations):\n",
        "    result += 1/5\n",
        "\n",
        "  for i in range(iterations):\n",
        "    result -= 1/5\n",
        "\n",
        "  return result\n",
        "\n",
        "result = accumulateError(10000000)\n",
        "error = result - 1\n",
        "print('Accumulated Error: ', error)"
      ],
      "metadata": {
        "colab": {
          "base_uri": "https://localhost:8080/"
        },
        "id": "fhcaecpQ5AoU",
        "outputId": "d0a15a00-5982-4eed-9214-278a3b8a67bf"
      },
      "execution_count": 46,
      "outputs": [
        {
          "output_type": "stream",
          "name": "stdout",
          "text": [
            "Accumulated Error:  -8.036460386051658e-11\n"
          ]
        }
      ]
    }
  ]
}